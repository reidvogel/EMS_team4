{
 "cells": [
  {
   "cell_type": "code",
   "execution_count": 11,
   "id": "b9db56e5-1ec3-4387-b946-3cadf079a5c0",
   "metadata": {},
   "outputs": [],
   "source": [
    "from __future__ import print_function\n",
    "from console_progressbar import ProgressBar\n",
    "from user_menu import *\n",
    "import time\n",
    "import sys"
   ]
  },
  {
   "cell_type": "code",
   "execution_count": 10,
   "id": "40d9bf59-2626-4f42-bf1f-60b5faf55eef",
   "metadata": {},
   "outputs": [],
   "source": [
    "pb = ProgressBar(total = 100, prefix = \"Show progress\", suffix='Now', decimals=1, length=50, fill= '=', zfill='-')"
   ]
  },
  {
   "cell_type": "code",
   "execution_count": null,
   "id": "904dcf6b-35b9-4309-a797-ae3c9701a6e0",
   "metadata": {},
   "outputs": [],
   "source": [
    "def pb_generator(Show):\n",
    "    percent = ()"
   ]
  }
 ],
 "metadata": {
  "kernelspec": {
   "display_name": "PythonData",
   "language": "python",
   "name": "pythondata"
  },
  "language_info": {
   "codemirror_mode": {
    "name": "ipython",
    "version": 3
   },
   "file_extension": ".py",
   "mimetype": "text/x-python",
   "name": "python",
   "nbconvert_exporter": "python",
   "pygments_lexer": "ipython3",
   "version": "3.7.1"
  }
 },
 "nbformat": 4,
 "nbformat_minor": 5
}
